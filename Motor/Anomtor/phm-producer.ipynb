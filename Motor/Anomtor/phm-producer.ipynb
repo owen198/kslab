{
 "cells": [
  {
   "cell_type": "code",
   "execution_count": 7,
   "metadata": {},
   "outputs": [],
   "source": [
    "# kafka.motorflowneo.iii-ei-stack.com:32510\n",
    "# kafka.motorflowneo.iii-ei-stack.com:32511\n",
    "# kafka.motorflowneo.iii-ei-stack.com:32512"
   ]
  },
  {
   "cell_type": "code",
   "execution_count": 20,
   "metadata": {},
   "outputs": [],
   "source": [
    "from kafka import KafkaProducer\n",
    "from os import listdir\n",
    "from os.path import isfile, join\n",
    "\n",
    "import pandas as pd\n",
    "import time\n",
    "import json"
   ]
  },
  {
   "cell_type": "code",
   "execution_count": 21,
   "metadata": {},
   "outputs": [],
   "source": [
    "load_path = '../datasets/phm-2012/Learning_set/Bearing1_1/'\n",
    "onlyfiles = [f for f in listdir(load_path) if isfile(join(load_path, f))]\n",
    "onlyfiles.sort()"
   ]
  },
  {
   "cell_type": "code",
   "execution_count": 22,
   "metadata": {},
   "outputs": [],
   "source": [
    "def producer(x, y):\n",
    "    \n",
    "    producer = KafkaProducer(bootstrap_servers=['59.124.112.101:32110'])\n",
    "    \n",
    "    data = json.dumps({\n",
    "        \"x\" : x,\n",
    "        \"y\": y\n",
    "    })\n",
    "    x = bytes(str(x), encoding = \"utf8\")\n",
    "    y = bytes(str(y), encoding = \"utf8\")\n",
    "    data_encoded = bytes(data, encoding = \"utf8\")\n",
    "    \n",
    "    future = producer.send('phm-x' , key= b'horizontal', value= x, partition= 0)\n",
    "    result = future.get(timeout= 1000)\n",
    "    \n",
    "    future = producer.send('phm-y' , key= b'vertical', value= y, partition= 0)\n",
    "    result = future.get(timeout= 1000)\n",
    "    \n",
    "    future = producer.send('phm-mix' , key= b'mixed', value= data_encoded, partition= 0)\n",
    "    result = future.get(timeout= 1000)\n",
    "    \n",
    "#     print(result)"
   ]
  },
  {
   "cell_type": "code",
   "execution_count": null,
   "metadata": {},
   "outputs": [],
   "source": [
    "while (True):\n",
    "\n",
    "    for file in onlyfiles:\n",
    "        \n",
    "        #times in seconds\n",
    "        ts = int(file.split('_')[1].split('.')[0])\n",
    "        \n",
    "        payload_x=[ts]\n",
    "        payload_y=[ts]\n",
    "\n",
    "        producer_pd = pd.read_csv(load_path+file, header=None)\n",
    "\n",
    "        anchor_head=2560\n",
    "        length=2560\n",
    "\n",
    "        for anchor in range(0, int(len(producer_pd)/length)):\n",
    "\n",
    "            horizontal = producer_pd.head(anchor_head).tail(length)[[4]].T.values.tolist()[0]\n",
    "            vertical = producer_pd.head(anchor_head).tail(length)[[5]].T.values.tolist()[0]\n",
    "            \n",
    "            payload_x = payload_x + horizontal\n",
    "            payload_y = payload_y + vertical\n",
    "            \n",
    "            producer(payload_x, payload_y)\n",
    "            \n",
    "            # calculas timestamp for each 512 datapoints, total datapoints = 2803 * 5 = 14015 seconds\n",
    "#             ts = (int(file.split('_')[1].split('.')[0])-1) * int(len(producer_pd)/length) + int(anchor_head/length)\n",
    "#             print(ts)\n",
    "            \n",
    "            anchor_head=anchor_head + length\n",
    "\n",
    "            time.sleep(10)"
   ]
  },
  {
   "cell_type": "code",
   "execution_count": null,
   "metadata": {},
   "outputs": [],
   "source": [
    "# producer_pd"
   ]
  },
  {
   "cell_type": "code",
   "execution_count": null,
   "metadata": {},
   "outputs": [],
   "source": [
    "file = 'acc_00001.csv'"
   ]
  },
  {
   "cell_type": "code",
   "execution_count": null,
   "metadata": {},
   "outputs": [],
   "source": []
  }
 ],
 "metadata": {
  "kernelspec": {
   "display_name": "Python 3",
   "language": "python",
   "name": "python3"
  },
  "language_info": {
   "codemirror_mode": {
    "name": "ipython",
    "version": 3
   },
   "file_extension": ".py",
   "mimetype": "text/x-python",
   "name": "python",
   "nbconvert_exporter": "python",
   "pygments_lexer": "ipython3",
   "version": "3.7.4"
  }
 },
 "nbformat": 4,
 "nbformat_minor": 2
}
