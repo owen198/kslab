{
 "cells": [
  {
   "cell_type": "code",
   "execution_count": 1,
   "metadata": {},
   "outputs": [],
   "source": [
    "import numpy as np\n",
    "import pandas as pd\n",
    "from sklearn.manifold import TSNE\n",
    "import matplotlib.pyplot as plt\n",
    "import seaborn as sns"
   ]
  },
  {
   "cell_type": "code",
   "execution_count": 2,
   "metadata": {},
   "outputs": [],
   "source": [
    "phm_folder= \"../datasets/csc/1Y520210304-wt/\"\n",
    "\n",
    "motor = '1Y520210304'\n",
    "\n",
    "path_X_train_Bearing1_1 = phm_folder+'X_train_'+motor+'.npy' \n",
    "# path_X_train_Bearing1_2 = phm_folder+'X_train_Bearing1_2.npy'\n",
    "# path_X_train_Bearing2_1 = phm_folder+'X_train_Bearing2_1.npy' \n",
    "# path_X_train_Bearing2_2 = phm_folder+'X_train_Bearing2_2.npy' \n",
    "# path_X_train_Bearing3_1 = phm_folder+'X_train_Bearing3_1.npy' \n",
    "# path_X_train_Bearing3_2 = phm_folder+'X_train_Bearing3_2.npy' \n",
    "\n",
    "\n",
    "path_Y_train_Bearing1_1 = phm_folder+'Y_train_'+motor+'.npy' \n",
    "# path_Y_train_Bearing1_2 = phm_folder+'Y_train_Bearing1_2.npy'\n",
    "# path_Y_train_Bearing2_1 = phm_folder+'Y_train_Bearing2_1.npy' \n",
    "# path_Y_train_Bearing2_2 = phm_folder+'Y_train_Bearing2_2.npy' \n",
    "# path_Y_train_Bearing3_1 = phm_folder+'Y_train_Bearing3_1.npy' \n",
    "# path_Y_train_Bearing3_2 = phm_folder+'Y_train_Bearing3_2.npy' "
   ]
  },
  {
   "cell_type": "code",
   "execution_count": 3,
   "metadata": {},
   "outputs": [],
   "source": [
    "X_train_Bearing1_1 = np.load(path_X_train_Bearing1_1)\n",
    "# X_train_Bearing1_2 = np.load(path_X_train_Bearing1_2)\n",
    "# X_train_Bearing2_1 = np.load(path_X_train_Bearing2_1)\n",
    "# X_train_Bearing2_2 = np.load(path_X_train_Bearing2_2)\n",
    "# X_train_Bearing3_1 = np.load(path_X_train_Bearing3_1)\n",
    "# X_train_Bearing3_2 = np.load(path_X_train_Bearing3_2)\n",
    "\n",
    "Y_train_Bearing1_1 = np.load(path_Y_train_Bearing1_1)\n",
    "# Y_train_Bearing1_2 = np.load(path_Y_train_Bearing1_2)\n",
    "# Y_train_Bearing2_1 = np.load(path_Y_train_Bearing2_1)\n",
    "# Y_train_Bearing2_2 = np.load(path_Y_train_Bearing2_2)\n",
    "# Y_train_Bearing3_1 = np.load(path_Y_train_Bearing3_1)\n",
    "# Y_train_Bearing3_2 = np.load(path_Y_train_Bearing3_2)"
   ]
  },
  {
   "cell_type": "code",
   "execution_count": 4,
   "metadata": {},
   "outputs": [],
   "source": [
    "# from keras.datasets import mnist  \n",
    "# from keras.utils import np_utils  \n",
    "# import numpy as np  \n",
    "# np.random.seed(10)  \n",
    "  \n",
    "# # Read MNIST data  \n",
    "# (X_train, y_train), (X_Test, y_Test) = mnist.load_data()  \n",
    "\n",
    "# num_pixels=28*28\n",
    "# X_train = X_train.reshape(X_train.shape[0], num_pixels)"
   ]
  },
  {
   "cell_type": "code",
   "execution_count": 5,
   "metadata": {},
   "outputs": [],
   "source": [
    "ratio = 0.5\n",
    "Y_train = Y_train_Bearing1_1\n",
    "# Y_train = Y_train_Bearing1_1 + ratio\n",
    "# Y_train = np.floor(Y_train)\n",
    "\n",
    "X_train = np.squeeze(X_train_Bearing1_1, axis=1)\n",
    "\n",
    "num_pixels=511*99\n",
    "X_train = X_train.reshape(X_train.shape[0], num_pixels)"
   ]
  },
  {
   "cell_type": "code",
   "execution_count": 6,
   "metadata": {},
   "outputs": [
    {
     "data": {
      "image/png": "[encoded data removed]",
      "text/plain": [
       "<Figure size 432x288 with 1 Axes>"
      ]
     },
     "metadata": {
      "needs_background": "light"
     },
     "output_type": "display_data"
    }
   ],
   "source": [
    "fig, ax = plt.subplots()\n",
    "ax.plot(Y_train)\n",
    "\n",
    "ax.set(xlabel='time (s)', ylabel='voltage (mV)',\n",
    "       title='About as simple as it gets, folks')\n",
    "\n",
    "ax.grid()\n",
    "\n",
    "plt.show()"
   ]
  },
  {
   "cell_type": "code",
   "execution_count": null,
   "metadata": {},
   "outputs": [],
   "source": [
    "# model = TSNE(n_components=2, random_state=0, perplexity=30, learning_rate=50, n_iter=2500)\n",
    "model = TSNE(perplexity=30, n_components=2, init='pca', n_iter=3000)\n",
    "reduced_data = model.fit_transform(X_train)"
   ]
  },
  {
   "cell_type": "code",
   "execution_count": null,
   "metadata": {},
   "outputs": [],
   "source": [
    "reduced_pd = pd.DataFrame(reduced_data)\n",
    "reduced_df = np.vstack((reduced_data.T, Y_train)).T\n",
    "reduced_df = pd.DataFrame(data=reduced_df, columns=[\"X\", \"Y\", \"Y_train\"])\n",
    "reduced_df.Y_train = reduced_df.Y_train.astype(np.float)\n",
    "reduced_df.head()"
   ]
  },
  {
   "cell_type": "code",
   "execution_count": null,
   "metadata": {},
   "outputs": [],
   "source": [
    "plot_df_c0 = reduced_df[reduced_df['Y_train']<0.3]\n",
    "plot_df_c1 = reduced_df[(reduced_df['Y_train']>0.3) & (reduced_df['Y_train']<0.9)]\n",
    "plot_df_c2 = reduced_df[reduced_df['Y_train']> 0.9]\n",
    "\n",
    "# (reduced_df['Y_train']>0.3) & (reduced_df['Y_train']<0.6)"
   ]
  },
  {
   "cell_type": "code",
   "execution_count": null,
   "metadata": {},
   "outputs": [],
   "source": [
    "# reduced_pd = pd.DataFrame(reduced_data)\n",
    "# reduced_pd\n",
    "plt.figure(figsize=(10, 5))\n",
    "plt.scatter(plot_df_c0['X'], plot_df_c0['Y'], alpha=0.5, label='HI<30%')\n",
    "plt.scatter(plot_df_c1['X'], plot_df_c1['Y'], alpha=0.5, label='30<HI<50%')\n",
    "plt.scatter(plot_df_c2['X'], plot_df_c2['Y'], alpha=0.5, label='HI>50%')\n",
    "\n",
    "plt.title('t-SNE result of '+ motor)\n",
    "plt.ylabel('Dim0')\n",
    "plt.xlabel('Dim1')\n",
    "plt.tight_layout()\n",
    "plt.legend()\n",
    "plt.savefig('tsne_'+motor+'.png', dpi=300)\n",
    "plt.show()"
   ]
  },
  {
   "cell_type": "code",
   "execution_count": null,
   "metadata": {},
   "outputs": [],
   "source": [
    "def plot_tsne (x, y, model):\n",
    "    \n",
    "    g = sns.FacetGrid(reduced_df, hue='Y_train', size=6).map(plt.scatter, 'X', 'Y').add_legend()"
   ]
  },
  {
   "cell_type": "code",
   "execution_count": null,
   "metadata": {},
   "outputs": [],
   "source": []
  }
 ],
 "metadata": {
  "kernelspec": {
   "display_name": "Python 3",
   "language": "python",
   "name": "python3"
  },
  "language_info": {
   "codemirror_mode": {
    "name": "ipython",
    "version": 3
   },
   "file_extension": ".py",
   "mimetype": "text/x-python",
   "name": "python",
   "nbconvert_exporter": "python",
   "pygments_lexer": "ipython3",
   "version": "3.7.4"
  }
 },
 "nbformat": 4,
 "nbformat_minor": 2
}
