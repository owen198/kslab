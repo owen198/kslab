{
 "cells": [
  {
   "cell_type": "code",
   "execution_count": 1,
   "metadata": {},
   "outputs": [
    {
     "name": "stdout",
     "output_type": "stream",
     "text": [
      "Requirement already satisfied: imageio in /usr/local/lib/python3.6/dist-packages (2.6.1)\r\n",
      "Requirement already satisfied: numpy in /usr/local/lib/python3.6/dist-packages (from imageio) (1.17.4)\r\n",
      "Requirement already satisfied: pillow in /usr/local/lib/python3.6/dist-packages (from imageio) (6.2.1)\r\n"
     ]
    }
   ],
   "source": [
    "! pip3 install imageio"
   ]
  },
  {
   "cell_type": "code",
   "execution_count": 2,
   "metadata": {},
   "outputs": [],
   "source": [
    "from os import listdir\n",
    "from os.path import isfile, join\n",
    "import imageio"
   ]
  },
  {
   "cell_type": "code",
   "execution_count": 3,
   "metadata": {},
   "outputs": [],
   "source": [
    "motor = 'Bearing2_1'\n",
    "load_path = '../datasets/phm-2012/Learning_set/' + motor + '/'\n",
    "npy_save_path = '../datasets/phm-2012-wt/'\n",
    "img_save_path = '../datasets/phm-2012-wt-image/' + motor + '/'"
   ]
  },
  {
   "cell_type": "code",
   "execution_count": 4,
   "metadata": {},
   "outputs": [],
   "source": [
    "onlyfiles = [f for f in listdir(img_save_path) if isfile(join(img_save_path, f))]\n",
    "onlyfiles.sort()"
   ]
  },
  {
   "cell_type": "code",
   "execution_count": 5,
   "metadata": {},
   "outputs": [
    {
     "name": "stdout",
     "output_type": "stream",
     "text": [
      "../datasets/phm-2012-wt-image/Bearing2_1/Bearing2_1_acc_00050.png\n",
      "../datasets/phm-2012-wt-image/Bearing2_1/Bearing2_1_acc_00100.png\n",
      "../datasets/phm-2012-wt-image/Bearing2_1/Bearing2_1_acc_00150.png\n",
      "../datasets/phm-2012-wt-image/Bearing2_1/Bearing2_1_acc_00200.png\n",
      "../datasets/phm-2012-wt-image/Bearing2_1/Bearing2_1_acc_00250.png\n",
      "../datasets/phm-2012-wt-image/Bearing2_1/Bearing2_1_acc_00300.png\n",
      "../datasets/phm-2012-wt-image/Bearing2_1/Bearing2_1_acc_00350.png\n",
      "../datasets/phm-2012-wt-image/Bearing2_1/Bearing2_1_acc_00400.png\n",
      "../datasets/phm-2012-wt-image/Bearing2_1/Bearing2_1_acc_00450.png\n",
      "../datasets/phm-2012-wt-image/Bearing2_1/Bearing2_1_acc_00500.png\n",
      "../datasets/phm-2012-wt-image/Bearing2_1/Bearing2_1_acc_00550.png\n",
      "../datasets/phm-2012-wt-image/Bearing2_1/Bearing2_1_acc_00600.png\n",
      "../datasets/phm-2012-wt-image/Bearing2_1/Bearing2_1_acc_00650.png\n",
      "../datasets/phm-2012-wt-image/Bearing2_1/Bearing2_1_acc_00700.png\n",
      "../datasets/phm-2012-wt-image/Bearing2_1/Bearing2_1_acc_00750.png\n",
      "../datasets/phm-2012-wt-image/Bearing2_1/Bearing2_1_acc_00800.png\n",
      "../datasets/phm-2012-wt-image/Bearing2_1/Bearing2_1_acc_00850.png\n",
      "../datasets/phm-2012-wt-image/Bearing2_1/Bearing2_1_acc_00900.png\n"
     ]
    }
   ],
   "source": [
    "\n",
    "images = []\n",
    "for filename in onlyfiles:\n",
    "    \n",
    "    if int(filename.split('_')[3].split('.')[0]) % 50 == 0:\n",
    "        print(img_save_path+filename)\n",
    "        images.append(imageio.imread(img_save_path+filename))\n",
    "\n",
    "imageio.mimsave('./movie.gif', images)"
   ]
  },
  {
   "cell_type": "code",
   "execution_count": null,
   "metadata": {},
   "outputs": [],
   "source": []
  }
 ],
 "metadata": {
  "kernelspec": {
   "display_name": "Python 3",
   "language": "python",
   "name": "python3"
  },
  "language_info": {
   "codemirror_mode": {
    "name": "ipython",
    "version": 3
   },
   "file_extension": ".py",
   "mimetype": "text/x-python",
   "name": "python",
   "nbconvert_exporter": "python",
   "pygments_lexer": "ipython3",
   "version": "3.6.3"
  }
 },
 "nbformat": 4,
 "nbformat_minor": 2
}
