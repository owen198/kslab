{
 "cells": [
  {
   "cell_type": "code",
   "execution_count": 1,
   "metadata": {},
   "outputs": [],
   "source": [
    "from scipy.stats import pearsonr, spearmanr, ttest_ind\n",
    "import pandas as pd\n"
   ]
  },
  {
   "cell_type": "code",
   "execution_count": 49,
   "metadata": {},
   "outputs": [],
   "source": [
    "all_srl = [\n",
    "    'goal_setting', \n",
    "    'environment_structuring', \n",
    "    'task_strategies', \n",
    "    'time_management', \n",
    "    'help_seeking', \n",
    "    'self_evaluation', \n",
    "    'rehearsal', \n",
    "    'elaboration',\n",
    "    'organization',\n",
    "    'critical_thinking',\n",
    "    'metacognitive_selfregulation',\n",
    "    'math_self_efficacy',\n",
    "    'internet_self_efficacy'\n",
    "]\n",
    "df = pd.read_csv('eg2_avg.csv')"
   ]
  },
  {
   "cell_type": "code",
   "execution_count": 50,
   "metadata": {},
   "outputs": [],
   "source": [
    "data = {'name': [], 'stats': [], 'p-value': []}\n",
    "for i in all_srl:\n",
    "#     print(list(df['a_'+i]))\n",
    "#     print(list(df['b_'+i]))\n",
    "#     print(i)\n",
    "    result = ttest_ind(list(df['a_'+i]), list(df['b_'+i]))\n",
    "    data['name'].append(i)\n",
    "    data['stats'].append(result[0])\n",
    "    data['p-value'].append(result[1])"
   ]
  },
  {
   "cell_type": "code",
   "execution_count": 51,
   "metadata": {},
   "outputs": [
    {
     "data": {
      "text/html": [
       "<div>\n",
       "<style scoped>\n",
       "    .dataframe tbody tr th:only-of-type {\n",
       "        vertical-align: middle;\n",
       "    }\n",
       "\n",
       "    .dataframe tbody tr th {\n",
       "        vertical-align: top;\n",
       "    }\n",
       "\n",
       "    .dataframe thead th {\n",
       "        text-align: right;\n",
       "    }\n",
       "</style>\n",
       "<table border=\"1\" class=\"dataframe\">\n",
       "  <thead>\n",
       "    <tr style=\"text-align: right;\">\n",
       "      <th></th>\n",
       "      <th>name</th>\n",
       "      <th>stats</th>\n",
       "      <th>p-value</th>\n",
       "    </tr>\n",
       "  </thead>\n",
       "  <tbody>\n",
       "    <tr>\n",
       "      <th>0</th>\n",
       "      <td>goal_setting</td>\n",
       "      <td>0.649006</td>\n",
       "      <td>0.518987</td>\n",
       "    </tr>\n",
       "    <tr>\n",
       "      <th>1</th>\n",
       "      <td>environment_structuring</td>\n",
       "      <td>0.424750</td>\n",
       "      <td>0.672647</td>\n",
       "    </tr>\n",
       "    <tr>\n",
       "      <th>2</th>\n",
       "      <td>task_strategies</td>\n",
       "      <td>0.854685</td>\n",
       "      <td>0.396367</td>\n",
       "    </tr>\n",
       "    <tr>\n",
       "      <th>3</th>\n",
       "      <td>time_management</td>\n",
       "      <td>0.440506</td>\n",
       "      <td>0.661267</td>\n",
       "    </tr>\n",
       "    <tr>\n",
       "      <th>4</th>\n",
       "      <td>help_seeking</td>\n",
       "      <td>-0.329577</td>\n",
       "      <td>0.742950</td>\n",
       "    </tr>\n",
       "    <tr>\n",
       "      <th>5</th>\n",
       "      <td>self_evaluation</td>\n",
       "      <td>0.864594</td>\n",
       "      <td>0.390950</td>\n",
       "    </tr>\n",
       "    <tr>\n",
       "      <th>6</th>\n",
       "      <td>rehearsal</td>\n",
       "      <td>0.856462</td>\n",
       "      <td>0.395393</td>\n",
       "    </tr>\n",
       "    <tr>\n",
       "      <th>7</th>\n",
       "      <td>elaboration</td>\n",
       "      <td>1.169044</td>\n",
       "      <td>0.247338</td>\n",
       "    </tr>\n",
       "    <tr>\n",
       "      <th>8</th>\n",
       "      <td>organization</td>\n",
       "      <td>0.465667</td>\n",
       "      <td>0.643260</td>\n",
       "    </tr>\n",
       "    <tr>\n",
       "      <th>9</th>\n",
       "      <td>critical_thinking</td>\n",
       "      <td>1.489283</td>\n",
       "      <td>0.142024</td>\n",
       "    </tr>\n",
       "    <tr>\n",
       "      <th>10</th>\n",
       "      <td>metacognitive_selfregulation</td>\n",
       "      <td>0.556134</td>\n",
       "      <td>0.580334</td>\n",
       "    </tr>\n",
       "    <tr>\n",
       "      <th>11</th>\n",
       "      <td>math_self_efficacy</td>\n",
       "      <td>0.813210</td>\n",
       "      <td>0.419542</td>\n",
       "    </tr>\n",
       "    <tr>\n",
       "      <th>12</th>\n",
       "      <td>internet_self_efficacy</td>\n",
       "      <td>0.422577</td>\n",
       "      <td>0.674222</td>\n",
       "    </tr>\n",
       "  </tbody>\n",
       "</table>\n",
       "</div>"
      ],
      "text/plain": [
       "                            name     stats   p-value\n",
       "0                   goal_setting  0.649006  0.518987\n",
       "1        environment_structuring  0.424750  0.672647\n",
       "2                task_strategies  0.854685  0.396367\n",
       "3                time_management  0.440506  0.661267\n",
       "4                   help_seeking -0.329577  0.742950\n",
       "5                self_evaluation  0.864594  0.390950\n",
       "6                      rehearsal  0.856462  0.395393\n",
       "7                    elaboration  1.169044  0.247338\n",
       "8                   organization  0.465667  0.643260\n",
       "9              critical_thinking  1.489283  0.142024\n",
       "10  metacognitive_selfregulation  0.556134  0.580334\n",
       "11            math_self_efficacy  0.813210  0.419542\n",
       "12        internet_self_efficacy  0.422577  0.674222"
      ]
     },
     "execution_count": 51,
     "metadata": {},
     "output_type": "execute_result"
    }
   ],
   "source": [
    "df_result = pd.DataFrame(data)\n",
    "# df_result.to_csv('cg_srl.csv')\n",
    "df_result"
   ]
  },
  {
   "cell_type": "code",
   "execution_count": 13,
   "metadata": {},
   "outputs": [
    {
     "data": {
      "text/plain": [
       "Ttest_indResult(statistic=3.692744729379982, pvalue=0.010175540123456787)"
      ]
     },
     "execution_count": 13,
     "metadata": {},
     "output_type": "execute_result"
    }
   ],
   "source": [
    "ttest_ind([1,1,2,3], [0,0,-1, -2])"
   ]
  },
  {
   "cell_type": "code",
   "execution_count": null,
   "metadata": {},
   "outputs": [],
   "source": []
  }
 ],
 "metadata": {
  "kernelspec": {
   "display_name": "Python 3",
   "language": "python",
   "name": "python3"
  },
  "language_info": {
   "codemirror_mode": {
    "name": "ipython",
    "version": 3
   },
   "file_extension": ".py",
   "mimetype": "text/x-python",
   "name": "python",
   "nbconvert_exporter": "python",
   "pygments_lexer": "ipython3",
   "version": "3.7.3"
  }
 },
 "nbformat": 4,
 "nbformat_minor": 2
}
