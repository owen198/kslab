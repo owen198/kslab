{
 "cells": [
  {
   "cell_type": "code",
   "execution_count": null,
   "metadata": {},
   "outputs": [],
   "source": [
    "# Q1 Self-regulated Learning questionnaire\n",
    "goal_setting = [1, 2, 3, 4, 5]\n",
    "environment_structuring = [6, 7, 8, 9]\n",
    "task_strategies = [10, 11, 12, 13]\n",
    "time_management = [14, 15, 16]\n",
    "help_seeking = [17, 18, 19, 20]\n",
    "self_evaluation = [21, 22, 23, 24]\n",
    "\n",
    "# Q2 MSLQ Learning strategy\n",
    "rehearsal = [25, 26, 27, 28]\n",
    "elaboration = [29, 30, 31, 32, 33, 34]\n",
    "organization = [35, 36, 37, 38]\n",
    "critical_thinking = [39, 40, 41, 42, 43]\n",
    "# 自我調適\n",
    "metacognitive_selfregulation = [44, 45, 46, 47, 48, 49, 50, 51, 52, 53, 54, 55]\n",
    "\n",
    "# Q3 Self-efficacy Questionnaire\n",
    "math_self_efficacy = [56, 57, 58, 59, 60]\n",
    "internet_self_efficacy = [61, 62, 63, 64]\n",
    "\n",
    "reverse = [44, 51]"
   ]
  }
 ],
 "metadata": {
  "kernelspec": {
   "display_name": "Python 3",
   "language": "python",
   "name": "python3"
  },
  "language_info": {
   "codemirror_mode": {
    "name": "ipython",
    "version": 3
   },
   "file_extension": ".py",
   "mimetype": "text/x-python",
   "name": "python",
   "nbconvert_exporter": "python",
   "pygments_lexer": "ipython3",
   "version": "3.7.3"
  }
 },
 "nbformat": 4,
 "nbformat_minor": 2
}
