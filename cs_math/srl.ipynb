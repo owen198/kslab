{
 "cells": [
  {
   "cell_type": "code",
   "execution_count": 1,
   "metadata": {},
   "outputs": [],
   "source": [
    "import pandas as pd\n",
    "import csv\n",
    "\n",
    "# Q1 Self-regulated Learning questionnaire\n",
    "goal_setting = [1, 2, 3, 4, 5]\n",
    "environment_structuring = [6, 7, 8, 9]\n",
    "task_strategies = [10, 11, 12, 13]\n",
    "time_management = [14, 15, 16]\n",
    "help_seeking = [17, 18, 19, 20]\n",
    "self_evaluation = [21, 22, 23, 24]\n",
    "\n",
    "# Q2 MSLQ Learning strategy\n",
    "rehearsal = [25, 26, 27, 28]\n",
    "elaboration = [29, 30, 31, 32, 33, 34]\n",
    "organization = [35, 36, 37, 38]\n",
    "critical_thinking = [39, 40, 41, 42, 43]\n",
    "# 自我調適\n",
    "metacognitive_selfregulation = [44, 45, 46, 47, 48, 49, 50, 51, 52, 53, 54, 55]\n",
    "\n",
    "# Q3 Self-efficacy Questionnaire\n",
    "math_self_efficacy = [56, 57, 58, 59, 60]\n",
    "internet_self_efficacy = [61, 62, 63, 64]\n",
    "\n",
    "reverse = [44, 51]\n",
    "\n",
    "# cg: 控制組, eg1: 實驗組1, eg2: 實驗組2\n",
    "cg = [1, 2, 3]\n",
    "eg1 = [4, 6, 9, 10]\n",
    "eg2 = [5, 7, 8, 11, 12]"
   ]
  },
  {
   "cell_type": "code",
   "execution_count": 2,
   "metadata": {},
   "outputs": [],
   "source": [
    "def int_to_str(int_list):\n",
    "    str_list = []\n",
    "    for i in int_list:\n",
    "        str_list.append(str(i))\n",
    "    return str_list"
   ]
  },
  {
   "cell_type": "code",
   "execution_count": 3,
   "metadata": {},
   "outputs": [],
   "source": [
    "def cal():\n",
    "    for class_num in range(1, 12 + 1):\n",
    "#     class_num = 2\n",
    "        print(class_num)\n",
    "        df_before = pd.read_csv('data/107-{}-微積分Python前測.csv'.format(class_num))\n",
    "        df_after = pd.read_csv('data/107-{}-微積分Python後測.csv'.format(class_num))\n",
    "        # df['3'] + df['4']\n",
    "        df_before = df_before.dropna()\n",
    "        df_after = df_after.dropna()\n",
    "        \n",
    "        # 反轉題處理\n",
    "        for col in reverse:\n",
    "            df_before[str(col)] = (df_before[str(col)] - 8) * (-1)\n",
    "            df_after[str(col)] = (df_after[str(col)] - 8) * (-1)\n",
    "            \n",
    "        select_before = df_before['學號'].isin(df_after['學號'])\n",
    "        select_after = df_after['學號'].isin(df_before['學號'])\n",
    "#         data[class_num] = {\n",
    "#             'before': {},\n",
    "#             'after': {},\n",
    "#             'people': len(select) \n",
    "#         }\n",
    "#         data[class_num]['before'] = {\n",
    "#             'goal_setting': df_before[select][int_to_str(goal_setting)].sum().sum(),\n",
    "#             'environment_structuring': df_before[select][int_to_str(environment_structuring)].sum().sum(),\n",
    "#             'task_strategies': df_before[select][int_to_str(task_strategies)].sum().sum(),\n",
    "#             'time_management': df_before[select][int_to_str(time_management)].sum().sum(),\n",
    "#             'help_seeking': df_before[select][int_to_str(help_seeking)].sum().sum(),\n",
    "#             'self_evaluation': df_before[select][int_to_str(self_evaluation)].sum().sum(),\n",
    "#             'rehearsal': df_before[select][int_to_str(rehearsal)].sum().sum(),\n",
    "#             'elaboration': df_before[select][int_to_str(elaboration)].sum().sum(),\n",
    "#             'organization': df_before[select][int_to_str(organization)].sum().sum(),\n",
    "#             'critical_thinking': df_before[select][int_to_str(critical_thinking)].sum().sum(),\n",
    "#             'metacognitive_selfregulation': df_before[select][int_to_str(metacognitive_selfregulation)].sum().sum(),\n",
    "#             'math_self_efficacy': df_before[select][int_to_str(math_self_efficacy)].sum().sum(),\n",
    "#             'internet_self_efficacy': df_before[select][int_to_str(internet_self_efficacy)].sum().sum(),\n",
    "#         }\n",
    "#         for df, select in [(df_before, select_before), (df_after, select_after)]:\n",
    "#             df['goal_setting'] = df[select][int_to_str(goal_setting)].sum(axis=1)\n",
    "#             df['environment_structuring'] = df[select][int_to_str(environment_structuring)].sum(axis=1)\n",
    "#             df['task_strategies'] = df[select][int_to_str(task_strategies)].sum(axis=1)\n",
    "#             df['time_management'] = df[select][int_to_str(time_management)].sum(axis=1)\n",
    "#             df['help_seeking'] = df[select][int_to_str(help_seeking)].sum(axis=1)\n",
    "#             df['self_evaluation'] = df[select][int_to_str(self_evaluation)].sum(axis=1)\n",
    "#             df['rehearsal'] = df[select][int_to_str(rehearsal)].sum(axis=1)\n",
    "#             df['elaboration'] = df[select][int_to_str(elaboration)].sum(axis=1)\n",
    "#             df['organization'] = df[select][int_to_str(organization)].sum(axis=1)\n",
    "#             df['critical_thinking'] = df[select][int_to_str(critical_thinking)].sum(axis=1)\n",
    "#             df['metacognitive_selfregulation'] = df[select][int_to_str(metacognitive_selfregulation)].sum(axis=1)\n",
    "#             df['math_self_efficacy'] = df[select][int_to_str(math_self_efficacy)].sum(axis=1)\n",
    "#             df['internet_self_efficacy'] = df[select][int_to_str(internet_self_efficacy)].sum(axis=1)\n",
    "        for df, select in [(df_before, select_before), (df_after, select_after)]:\n",
    "            df['goal_setting'] = df[select][int_to_str(goal_setting)].sum(axis=1)/5\n",
    "            df['environment_structuring'] = df[select][int_to_str(environment_structuring)].sum(axis=1)/4\n",
    "            df['task_strategies'] = df[select][int_to_str(task_strategies)].sum(axis=1)/4\n",
    "            df['time_management'] = df[select][int_to_str(time_management)].sum(axis=1)/3\n",
    "            df['help_seeking'] = df[select][int_to_str(help_seeking)].sum(axis=1)/4\n",
    "            df['self_evaluation'] = df[select][int_to_str(self_evaluation)].sum(axis=1)/4\n",
    "            df['rehearsal'] = df[select][int_to_str(rehearsal)].sum(axis=1)/4\n",
    "            df['elaboration'] = df[select][int_to_str(elaboration)].sum(axis=1)/6\n",
    "            df['organization'] = df[select][int_to_str(organization)].sum(axis=1)/4\n",
    "            df['critical_thinking'] = df[select][int_to_str(critical_thinking)].sum(axis=1)/5\n",
    "            df['metacognitive_selfregulation'] = df[select][int_to_str(metacognitive_selfregulation)].sum(axis=1)/12\n",
    "            df['math_self_efficacy'] = df[select][int_to_str(math_self_efficacy)].sum(axis=1)/5\n",
    "            df['internet_self_efficacy'] = df[select][int_to_str(internet_self_efficacy)].sum(axis=1)/4\n",
    "        \n",
    "        df_before.to_csv('output2/107-{}-微積分Python前測.csv'.format(class_num), index=False)\n",
    "        df_after.to_csv('output2/107-{}-微積分Python後測.csv'.format(class_num), index=False)\n",
    "        \n",
    "#         for s in df_before[select_before]['學號']:\n",
    "            \n",
    "#             pd.DataFrame([], columns=[\n",
    "#                 'goal_setting', \n",
    "#                 'environment_structuring', \n",
    "#                 'task_strategies', \n",
    "#                 'time_management', \n",
    "#                 'help_seeking', \n",
    "#                 'self_evaluation', \n",
    "#                 'rehearsal', \n",
    "#                 'elaboration',\n",
    "#                 'organization',\n",
    "#                 'critical_thinking',\n",
    "#                 'metacognitive_selfregulation',\n",
    "#                 'math_self_efficacy',\n",
    "#                 'internet_self_efficacy'\n",
    "#             ])"
   ]
  },
  {
   "cell_type": "code",
   "execution_count": 4,
   "metadata": {},
   "outputs": [
    {
     "name": "stdout",
     "output_type": "stream",
     "text": [
      "1\n",
      "2\n",
      "3\n",
      "4\n",
      "5\n",
      "6\n",
      "7\n",
      "8\n",
      "9\n",
      "10\n",
      "11\n",
      "12\n"
     ]
    },
    {
     "data": {
      "text/plain": [
       "{}"
      ]
     },
     "execution_count": 4,
     "metadata": {},
     "output_type": "execute_result"
    }
   ],
   "source": [
    "cal()"
   ]
  },
  {
   "cell_type": "code",
   "execution_count": 11,
   "metadata": {},
   "outputs": [],
   "source": [
    "# class_num = 4\n",
    "# df_before = pd.read_csv('data/107-{}-微積分Python前測.csv'.format(class_num))\n",
    "# df_after = pd.read_csv('data/107-{}-微積分Python後測.csv'.format(class_num))\n",
    "# # df['3'] + df['4']\n",
    "# df_before = df_before.dropna()\n",
    "# df_after = df_after.dropna()\n",
    "# select = df_before['學號'].isin(df_after['學號'])\n",
    "# # pd.concat([df_before[select]['學號'], df_before[select][int_to_str(goal_setting)].sum(axis=1)], axis=1)\n",
    "# # len(select)\n",
    "# # df_before[select]['學號']\n",
    "\n",
    "# df_before['goal_setting'] = df_before[select][int_to_str(goal_setting)].sum(axis=1)\n",
    "# # for i in df_before[select]['學號'].astype('str'):\n",
    "# #     print(i)\n",
    "# df_before\n",
    "# # df2 = pd.concat(df_before[select]['學號'], df_before[select][int_to_str(goal_setting)].sum(axis=1))"
   ]
  },
  {
   "cell_type": "code",
   "execution_count": 3,
   "metadata": {},
   "outputs": [],
   "source": [
    "def get_classes_before_df(classes):\n",
    "    l = []\n",
    "    for class_num in classes:\n",
    "        df = pd.read_csv('output2/107-{}-微積分Python前測.csv'.format(class_num))\n",
    "#         df_after = pd.read_csv('data/107-{}-微積分Python後測.csv'.format(class_num))\n",
    "        df = df.dropna()\n",
    "        l.append(df)\n",
    "    return pd.concat(l)\n",
    "def get_classes_after_df(classes):\n",
    "    l = []\n",
    "    for class_num in classes:\n",
    "        df = pd.read_csv('output2/107-{}-微積分Python後測.csv'.format(class_num))\n",
    "#         df_after = pd.read_csv('data/107-{}-微積分Python後測.csv'.format(class_num))\n",
    "        df = df.dropna()\n",
    "        l.append(df)\n",
    "    return pd.concat(l)"
   ]
  },
  {
   "cell_type": "code",
   "execution_count": 4,
   "metadata": {},
   "outputs": [],
   "source": [
    "def save_srl_result(path, group):\n",
    "    all_srl = [\n",
    "        'goal_setting', \n",
    "        'environment_structuring', \n",
    "        'task_strategies', \n",
    "        'time_management', \n",
    "        'help_seeking', \n",
    "        'self_evaluation', \n",
    "        'rehearsal', \n",
    "        'elaboration',\n",
    "        'organization',\n",
    "        'critical_thinking',\n",
    "        'metacognitive_selfregulation',\n",
    "        'math_self_efficacy',\n",
    "        'internet_self_efficacy'\n",
    "    ]\n",
    "\n",
    "    df_before = get_classes_before_df(group)\n",
    "    df_after = get_classes_after_df(group)\n",
    "    # df_before['學號'] = df_before['學號'].astype(str)\n",
    "    # df_after['學號'] = df_after['學號'].astype(str)\n",
    "\n",
    "    # df_before.join(df_after)\n",
    "    select_before = df_before['學號'].isin(df_after['學號'])\n",
    "    select_after = df_after['學號'].isin(df_before['學號'])\n",
    "    # df_new = pd.DataFrame([], columns=)\n",
    "    data = {}\n",
    "    for s in df_before[select_before]['學號']:\n",
    "        data[s] = {}\n",
    "\n",
    "        df_b = df_before.set_index('學號')\n",
    "        df_a = df_after.set_index('學號')\n",
    "        for i in all_srl:    \n",
    "            data[s]['b_'+i] = df_b.loc[s][i]\n",
    "            data[s]['a_'+i] = df_a.loc[s][i]\n",
    "    #     break\n",
    "    df_result = pd.DataFrame.from_dict(data, orient='index')\n",
    "    df_result.to_csv(path)\n"
   ]
  },
  {
   "cell_type": "code",
   "execution_count": 5,
   "metadata": {},
   "outputs": [
    {
     "name": "stderr",
     "output_type": "stream",
     "text": [
      "/Library/Frameworks/Python.framework/Versions/3.7/lib/python3.7/site-packages/ipykernel_launcher.py:16: FutureWarning: Sorting because non-concatenation axis is not aligned. A future version\n",
      "of pandas will change to not sort by default.\n",
      "\n",
      "To accept the future behavior, pass 'sort=False'.\n",
      "\n",
      "To retain the current behavior and silence the warning, pass 'sort=True'.\n",
      "\n",
      "  app.launch_new_instance()\n"
     ]
    }
   ],
   "source": [
    "save_srl_result('cg_avg.csv', cg)\n",
    "save_srl_result('eg1_avg.csv', eg1)\n",
    "save_srl_result('eg2_avg.csv', eg2)"
   ]
  },
  {
   "cell_type": "code",
   "execution_count": 6,
   "metadata": {},
   "outputs": [],
   "source": [
    "# df_result = pd.DataFrame.from_dict(data, orient='index')\n",
    "# # df_result.index = df_result.index.map(str)\n",
    "# df_result.to_csv('cg_avg.csv')\n",
    "# df_result"
   ]
  },
  {
   "cell_type": "code",
   "execution_count": null,
   "metadata": {},
   "outputs": [],
   "source": []
  }
 ],
 "metadata": {
  "kernelspec": {
   "display_name": "Python 3",
   "language": "python",
   "name": "python3"
  },
  "language_info": {
   "codemirror_mode": {
    "name": "ipython",
    "version": 3
   },
   "file_extension": ".py",
   "mimetype": "text/x-python",
   "name": "python",
   "nbconvert_exporter": "python",
   "pygments_lexer": "ipython3",
   "version": "3.7.3"
  }
 },
 "nbformat": 4,
 "nbformat_minor": 2
}
